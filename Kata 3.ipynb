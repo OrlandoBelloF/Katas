{
 "cells": [
  {
   "cell_type": "markdown",
   "metadata": {},
   "source": [
    "Para este ejercicio, escribirás una lógica condicional que imprima una advertencia si un asteroide se acerca a la Tierra demasiado rápido. La velocidad del asteroide varía dependiendo de lo cerca que esté del sol, y cualquier velocidad superior a 25 kilómetros por segundo (km/s) merece una advertencia.\n",
    "\n",
    "Un asteroide se acerca, y viaja a una velocidad de 49 km/s."
   ]
  },
  {
   "cell_type": "code",
   "execution_count": 5,
   "metadata": {},
   "outputs": [
    {
     "name": "stdout",
     "output_type": "stream",
     "text": [
      "Todo tranquilo :D\n"
     ]
    }
   ],
   "source": [
    "# Añadir el código necesario para crear una variable que guarde la velocidad del asteroide.\n",
    "# Escribe una expresión de prueba para calcular si necesita una advertencia.\n",
    "# Agregue las instrucciones que se ejecutarán si la expresión de prueba es true o false.\n",
    "\n",
    "velocidad_asteroide = 49\n",
    "\n",
    "if velocidad_asteroide > 25:\n",
    "    print(\"¡PELIGRO! UN ASTEROIDE SE ACERCA A LA TIERRA\")\n",
    "else:\n",
    "    print(\"Todo tranquilo :D\")"
   ]
  },
  {
   "cell_type": "markdown",
   "metadata": {},
   "source": [
    "Si un asteroide entra en la atmósfera de la Tierra a una velocidad mayor o igual a 20 km/s, a veces produce un rayo de luz que se puede ver desde la Tierra. Escribe la lógica condicional que usa declaraciones if, else, y elif para alertar a las personas de todo el mundo que deben buscar un asteroide en el cielo. ¡Hay uno que se dirige a la tierra ahora a una velocidad de 19 km/s!"
   ]
  },
  {
   "cell_type": "code",
   "execution_count": 4,
   "metadata": {},
   "outputs": [
    {
     "name": "stdout",
     "output_type": "stream",
     "text": [
      "¡ATENCION! UN ASTEROIDE ENTRÓ A LA ATMOSFERA\n"
     ]
    }
   ],
   "source": [
    "# Agrega el código para crear una variable para un asteroide que viaja a 19 km/s\n",
    "# Escribe varias expresiones de prueba para determinar si puedes ver el rayo de luz desde la tierra\n",
    "# Agrega las instrucciones que se ejecutarán si las expresiones de prueba son True o False\n",
    "\n",
    "velocidad_asteroide = 19\n",
    "se_puede_ver = False\n",
    "\n",
    "if velocidad_asteroide >= 20:\n",
    "    if se_puede_ver == True:\n",
    "        print(\"¡ATENCION! UN ASTEROIDE ENTRÓ A LA ATMOSFERA PUEDE VERSE EN EL CIELO\")\n",
    "    else:\n",
    "        print(\"¡ATENCION! UN ASTEROIDE ENTRÓ A LA ATMOSFERA pero no se puede ver :c\")\n",
    "else:\n",
    "    print(\"Todo tranquilo :D\")"
   ]
  },
  {
   "cell_type": "markdown",
   "metadata": {},
   "source": [
    "Los asteroides de menos de 25 metros en su dimensión más grande probablemente se quemarán a medida que entren en la atmósfera de la Tierra.\n",
    "\n",
    "Si una pieza de un asteroide que es más grande que 25 metros pero más pequeña que 1000 metros golpeara la Tierra, causaría mucho daño.\n",
    "También discutimos en el ejercicio anterior que:\n",
    "\n",
    "La velocidad del asteroide varía en función de lo cerca que esté del sol, y cualquier velocidad superior a 25 kilómetros por segundo (km/s) merece una advertencia.\n",
    "\n",
    "Si un asteroide entra en la atmósfera de la Tierra a una velocidad mayor o igual a 20 km/s, a veces produce un rayo de luz que se puede ver desde la Tierra."
   ]
  },
  {
   "cell_type": "code",
   "execution_count": 13,
   "metadata": {},
   "outputs": [
    {
     "name": "stdout",
     "output_type": "stream",
     "text": [
      "¡ATENCION! UN ASTEROIDE ENTRÓ A LA ATMOSFERA\n",
      " Y PUEDE VERSE\n",
      "pero se desintegrará en la atmosfera c:\n"
     ]
    }
   ],
   "source": [
    "# Agrega el código para crear nuevas variables para la velocidad y el tamaño del asteroide\n",
    "# Para probar el código, prueba con varias velocidades y tamaños\n",
    "# Escribe varias expresiones de prueba o combinaciones de expresiones de prueba para determinar qué mensaje se debe enviar a Tierra.\n",
    "\n",
    "velocidad_asteroide = 25\n",
    "tamano_asteroide = 10\n",
    "se_puede_ver = True\n",
    "if velocidad_asteroide > 25:\n",
    "    print(\"¡PELIGRO! UN ASTEROIDE SE ACERCA A LA TIERRA\")\n",
    "    if tamano_asteroide >= 25 and tamano_asteroide < 1000:\n",
    "        print(\"PROVOCARÁ MUCHO DAÑO\")\n",
    "        if se_puede_ver == True:\n",
    "            print(\" Y PUEDE VERSE\")\n",
    "        else:\n",
    "            print(\"Y NO SE VEEE D:\")\n",
    "    else:\n",
    "        print(\"pero se desintegrará en la atmosfera c:\")\n",
    "\n",
    "elif velocidad_asteroide >= 20:\n",
    "    print(\"¡ATENCION! UN ASTEROIDE ENTRÓ A LA ATMOSFERA\")\n",
    "    if tamano_asteroide >= 25 and tamano_asteroide < 1000:\n",
    "        print(\"PROVOCARÁ MUCHO DAÑO\")\n",
    "        if se_puede_ver == True:\n",
    "            print(\" Y PUEDE VERSE\")\n",
    "        else:\n",
    "            print(\"Y NO SE VEEE D:\")\n",
    "    elif se_puede_ver == True:\n",
    "            print(\" Y PUEDE VERSE\")\n",
    "    else:\n",
    "        print(\"Y NO SE VEEE D:\")\n",
    "    print(\"pero se desintegrará en la atmosfera c:\")\n",
    "else: \n",
    "    print(\"Todo tranquilo :D\")"
   ]
  }
 ],
 "metadata": {
  "interpreter": {
   "hash": "5e3de6446dfc90a7fdb2888cb787a9c23e3741318db4d2a1d1a666803aad671e"
  },
  "kernelspec": {
   "display_name": "Python 3.10.2 64-bit",
   "language": "python",
   "name": "python3"
  },
  "language_info": {
   "codemirror_mode": {
    "name": "ipython",
    "version": 3
   },
   "file_extension": ".py",
   "mimetype": "text/x-python",
   "name": "python",
   "nbconvert_exporter": "python",
   "pygments_lexer": "ipython3",
   "version": "3.10.2"
  },
  "orig_nbformat": 4
 },
 "nbformat": 4,
 "nbformat_minor": 2
}
